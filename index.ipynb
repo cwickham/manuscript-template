{
 "cells": [
  {
   "cell_type": "markdown",
   "metadata": {},
   "source": [
    "---\n",
    "title: La Palma Earthquakes\n",
    "author:\n",
    "  - name: Steve Purves\n",
    "    orcid: 0000-0002-0760-5497\n",
    "    corresponding: true\n",
    "    email: steve@curvenote.com\n",
    "    roles:\n",
    "      - Investigation\n",
    "      - Project administration\n",
    "      - Software\n",
    "      - Visualization\n",
    "    affiliations:\n",
    "      - Curvenote\n",
    "  - name: Rowan Cockett\n",
    "    orcid: 0000-0002-7859-8394\n",
    "    corresponding: false\n",
    "    roles: []\n",
    "    affiliations:\n",
    "      - Curvenote\n",
    "keywords:\n",
    "  - La Palma\n",
    "  - Earthquakes\n",
    "abstract: |\n",
    "  In September 2021, a significant jump in seismic activity on the island of La Palma (Canary Islands, Spain) signaled the start of a volcanic crisis that still continues at the time of writing. Earthquake data is continually collected and published by the Instituto Geográphico Nacional (IGN). ...\n",
    "plain-language-summary: |\n",
    "  Earthquake data for the island of La Palma from the September 2021 eruption is found ...\n",
    "key-points:\n",
    "  - A web scraping script was developed to pull data from the Instituto Geogràphico Nacional into a machine-readable form for analysis\n",
    "  - Earthquake events on La Palma are consistent with the presence of both mantle and crustal reservoirs.\n",
    "date: last-modified\n",
    "bibliography: references.bib\n",
    "citation:\n",
    "  container-title: Earth and Space Science\n",
    "---"
   ]
  },
  {
   "cell_type": "markdown",
   "metadata": {
    "tags": []
   },
   "source": [
    "## Introduction\n"
   ]
  },
  {
   "cell_type": "markdown",
   "metadata": {},
   "source": [
    "![Map of La Palma](images/la-palma-map.png){#fig-map}\n",
    "\n",
    "La Palma is one of the west most islands in the Volcanic Archipelago of the Canary Islands @fig-map. "
   ]
  },
  {
   "cell_type": "markdown",
   "metadata": {},
   "source": [
    "| Name      | Year |\n",
    "| ----------- | ----------- |\n",
    "| Current      | 2021       |\n",
    "| Teneguía   | 1971        |\n",
    "| Nambroque   | 1949        |\n",
    "| El Charco   | 1712        |\n",
    "| Volcán San Antonio   | 1677        |\n",
    "| Volcán San Martin   | 1646        |\n",
    "| Tajuya near El Paso   | 1585        |\n",
    "| Montaña Quemada   | 1492        |\n",
    "\n",
    ": Recent historic eruptions on La Palma {#tbl-history}\n",
    "\n",
    "@tbl-history summarises the eruptions recorded since the colonization of the islands by Europeans in the late 1400s."
   ]
  },
  {
   "cell_type": "markdown",
   "metadata": {},
   "source": [
    "The probability of a future eruption can be modeled by a Poisson distribution @eq-poisson.\n",
    "\n",
    "$$\n",
    "p(x)=\\frac{e^{-\\lambda} \\lambda^{x}}{x !}\n",
    "$$ {#eq-poisson}\n",
    "\n",
    "Where $\\lambda$ is the number of eruptions per year."
   ]
  },
  {
   "cell_type": "markdown",
   "metadata": {
    "tags": []
   },
   "source": [
    "Studies of the magma systems feeding the volcano, such as @marrero2019 has proposed that there are two main magma reservoirs feeding the Cumbre Vieja volcano; one in the mantle (30-40km depth) which charges and in turn feeds a shallower crustal reservoir (10-20km depth)."
   ]
  },
  {
   "cell_type": "markdown",
   "metadata": {},
   "source": [
    "## Data & Methods"
   ]
  },
  {
   "cell_type": "markdown",
   "metadata": {},
   "source": [
    "## Conclusion"
   ]
  },
  {
   "cell_type": "markdown",
   "metadata": {},
   "source": [
    "## References {.unnumbered}\n",
    "\n",
    ":::{#refs}\n",
    "\n",
    ":::"
   ]
  }
 ],
 "metadata": {
  "kernelspec": {
   "display_name": "Python 3 (ipykernel)",
   "language": "python",
   "name": "python3"
  },
  "language_info": {
   "codemirror_mode": {
    "name": "ipython",
    "version": 3
   },
   "file_extension": ".py",
   "mimetype": "text/x-python",
   "name": "python",
   "nbconvert_exporter": "python",
   "pygments_lexer": "ipython3",
   "version": "3.11.3"
  }
 },
 "nbformat": 4,
 "nbformat_minor": 4
}
